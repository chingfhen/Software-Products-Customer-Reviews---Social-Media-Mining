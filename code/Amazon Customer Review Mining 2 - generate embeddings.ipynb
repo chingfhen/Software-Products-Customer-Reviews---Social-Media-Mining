{
 "cells": [
  {
   "cell_type": "code",
   "execution_count": 16,
   "id": "0c122077",
   "metadata": {},
   "outputs": [],
   "source": [
    "import pandas as pd\n",
    "from sentence_transformers import SentenceTransformer\n",
    "import numpy as np\n",
    "from rake_nltk import Rake"
   ]
  },
  {
   "cell_type": "code",
   "execution_count": 2,
   "id": "ceb5f604",
   "metadata": {},
   "outputs": [
    {
     "data": {
      "text/html": [
       "<div>\n",
       "<style scoped>\n",
       "    .dataframe tbody tr th:only-of-type {\n",
       "        vertical-align: middle;\n",
       "    }\n",
       "\n",
       "    .dataframe tbody tr th {\n",
       "        vertical-align: top;\n",
       "    }\n",
       "\n",
       "    .dataframe thead th {\n",
       "        text-align: right;\n",
       "    }\n",
       "</style>\n",
       "<table border=\"1\" class=\"dataframe\">\n",
       "  <thead>\n",
       "    <tr style=\"text-align: right;\">\n",
       "      <th></th>\n",
       "      <th>summary</th>\n",
       "      <th>reviewText</th>\n",
       "      <th>asin</th>\n",
       "      <th>brand</th>\n",
       "      <th>sentiment</th>\n",
       "      <th>reviewId</th>\n",
       "    </tr>\n",
       "  </thead>\n",
       "  <tbody>\n",
       "    <tr>\n",
       "      <th>0</th>\n",
       "      <td>This is excellent software for those who want ...</td>\n",
       "      <td>If you've been wanting to learn how to create ...</td>\n",
       "      <td>0321719816</td>\n",
       "      <td>Peach Pit Press</td>\n",
       "      <td>POS</td>\n",
       "      <td>1</td>\n",
       "    </tr>\n",
       "    <tr>\n",
       "      <th>1</th>\n",
       "      <td>Competent introduction to Dreamweaver and web ...</td>\n",
       "      <td>I waited to complete the entire course before ...</td>\n",
       "      <td>0321719816</td>\n",
       "      <td>Peach Pit Press</td>\n",
       "      <td>NEU</td>\n",
       "      <td>2</td>\n",
       "    </tr>\n",
       "    <tr>\n",
       "      <th>2</th>\n",
       "      <td>Learn Adobe Photoshop Lightroom 3 by Video (Le...</td>\n",
       "      <td>As someone who has just upgraded from Lightroo...</td>\n",
       "      <td>0321700945</td>\n",
       "      <td>Peach Pit Press</td>\n",
       "      <td>POS</td>\n",
       "      <td>3</td>\n",
       "    </tr>\n",
       "    <tr>\n",
       "      <th>3</th>\n",
       "      <td>For Highly Motivated and Patient People</td>\n",
       "      <td>There are over 100 video lessons here. Most us...</td>\n",
       "      <td>0321700945</td>\n",
       "      <td>Peach Pit Press</td>\n",
       "      <td>NEU</td>\n",
       "      <td>4</td>\n",
       "    </tr>\n",
       "    <tr>\n",
       "      <th>4</th>\n",
       "      <td>Good Intro to Flash CS5</td>\n",
       "      <td>This was the first Learn by Video series cours...</td>\n",
       "      <td>0321719824</td>\n",
       "      <td>Peach Pit Press</td>\n",
       "      <td>POS</td>\n",
       "      <td>5</td>\n",
       "    </tr>\n",
       "  </tbody>\n",
       "</table>\n",
       "</div>"
      ],
      "text/plain": [
       "                                             summary  \\\n",
       "0  This is excellent software for those who want ...   \n",
       "1  Competent introduction to Dreamweaver and web ...   \n",
       "2  Learn Adobe Photoshop Lightroom 3 by Video (Le...   \n",
       "3            For Highly Motivated and Patient People   \n",
       "4                            Good Intro to Flash CS5   \n",
       "\n",
       "                                          reviewText        asin  \\\n",
       "0  If you've been wanting to learn how to create ...  0321719816   \n",
       "1  I waited to complete the entire course before ...  0321719816   \n",
       "2  As someone who has just upgraded from Lightroo...  0321700945   \n",
       "3  There are over 100 video lessons here. Most us...  0321700945   \n",
       "4  This was the first Learn by Video series cours...  0321719824   \n",
       "\n",
       "             brand sentiment  reviewId  \n",
       "0  Peach Pit Press       POS         1  \n",
       "1  Peach Pit Press       NEU         2  \n",
       "2  Peach Pit Press       POS         3  \n",
       "3  Peach Pit Press       NEU         4  \n",
       "4  Peach Pit Press       POS         5  "
      ]
     },
     "execution_count": 2,
     "metadata": {},
     "output_type": "execute_result"
    }
   ],
   "source": [
    "path = r\"C:\\Users\\tanch\\Documents\\NTU\\NTU Year 4\\Semester 1\\CS4022 - Social Media Mining\\Assignments\\Assignment 2 - Customer Review Mining Project\\data\\dataset.csv\"\n",
    "dataset = pd.read_csv(path)\n",
    "dataset.head()"
   ]
  },
  {
   "cell_type": "markdown",
   "id": "d901ce8f",
   "metadata": {},
   "source": [
    "### extract review keywords"
   ]
  },
  {
   "cell_type": "code",
   "execution_count": null,
   "id": "a76d6453",
   "metadata": {},
   "outputs": [],
   "source": [
    "r = Rake()\n",
    "def get_keywords(text):\n",
    "    r.extract_keywords_from_text(text)\n",
    "    return \" \".join(r.get_ranked_phrases()[:20])"
   ]
  },
  {
   "cell_type": "code",
   "execution_count": 35,
   "id": "1352db24",
   "metadata": {},
   "outputs": [],
   "source": [
    "dataset[\"keywords\"] = dataset[\"reviewText\"].apply(lambda text:get_keywords(text))"
   ]
  },
  {
   "cell_type": "markdown",
   "id": "bbe9e995",
   "metadata": {},
   "source": [
    "### generate embeddings"
   ]
  },
  {
   "cell_type": "code",
   "execution_count": null,
   "id": "9c1399a6",
   "metadata": {},
   "outputs": [],
   "source": [
    "model = SentenceTransformer('all-MiniLM-L6-v2')"
   ]
  },
  {
   "cell_type": "code",
   "execution_count": 8,
   "id": "df526174",
   "metadata": {},
   "outputs": [],
   "source": [
    "summary_embeddings = model.encode(dataset[\"summary\"])\n",
    "review_embeddings = model.encode(dataset[\"reviewText\"])\n",
    "keyword_embeddings = model.encode(dataset[\"keywords\"])"
   ]
  },
  {
   "cell_type": "markdown",
   "id": "2e26d2ff",
   "metadata": {},
   "source": [
    "### save"
   ]
  },
  {
   "cell_type": "code",
   "execution_count": 14,
   "id": "67f2d9e5",
   "metadata": {},
   "outputs": [],
   "source": [
    "path = r\"C:\\Users\\tanch\\Documents\\NTU\\NTU Year 4\\Semester 1\\CS4022 - Social Media Mining\\Assignments\\Assignment 2 - Customer Review Mining Project\\data\\summary_embeddings.npy\"\n",
    "with open(path, 'wb') as f:\n",
    "    np.save(f, summary_embeddings)"
   ]
  },
  {
   "cell_type": "code",
   "execution_count": 15,
   "id": "9c7934b6",
   "metadata": {},
   "outputs": [],
   "source": [
    "path = r\"C:\\Users\\tanch\\Documents\\NTU\\NTU Year 4\\Semester 1\\CS4022 - Social Media Mining\\Assignments\\Assignment 2 - Customer Review Mining Project\\data\\review_embeddings.npy\"\n",
    "with open(path, 'wb') as f:\n",
    "    np.save(f, review_embeddings)"
   ]
  },
  {
   "cell_type": "code",
   "execution_count": 39,
   "id": "d307e032",
   "metadata": {},
   "outputs": [],
   "source": [
    "path = r\"C:\\Users\\tanch\\Documents\\NTU\\NTU Year 4\\Semester 1\\CS4022 - Social Media Mining\\Assignments\\Assignment 2 - Customer Review Mining Project\\data\\keyword_embeddings.npy\"\n",
    "with open(path, 'wb') as f:\n",
    "    np.save(f, keyword_embeddings)"
   ]
  }
 ],
 "metadata": {
  "kernelspec": {
   "display_name": "dp",
   "language": "python",
   "name": "dp"
  },
  "language_info": {
   "codemirror_mode": {
    "name": "ipython",
    "version": 3
   },
   "file_extension": ".py",
   "mimetype": "text/x-python",
   "name": "python",
   "nbconvert_exporter": "python",
   "pygments_lexer": "ipython3",
   "version": "3.9.12"
  }
 },
 "nbformat": 4,
 "nbformat_minor": 5
}
