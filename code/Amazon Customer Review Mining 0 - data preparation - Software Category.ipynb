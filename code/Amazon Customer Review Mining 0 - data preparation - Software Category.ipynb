{
 "cells": [
  {
   "cell_type": "code",
   "execution_count": 1,
   "id": "e5cf1923",
   "metadata": {},
   "outputs": [],
   "source": [
    "import gzip\n",
    "import json\n",
    "import pandas as pd\n",
    "from random import sample"
   ]
  },
  {
   "cell_type": "code",
   "execution_count": 2,
   "id": "ff71d048",
   "metadata": {},
   "outputs": [],
   "source": [
    "reviewpath = r\"C:\\Users\\tanch\\Documents\\NTU\\NTU Year 4\\Semester 1\\CS4022 - Social Media Mining\\Assignments\\Assignment 2 - Customer Review Mining Project\\data\\Software_5.json.gz\"\n",
    "metapath = r\"C:\\Users\\tanch\\Documents\\NTU\\NTU Year 4\\Semester 1\\CS4022 - Social Media Mining\\Assignments\\Assignment 2 - Customer Review Mining Project\\data\\meta_Software.json.gz\""
   ]
  },
  {
   "cell_type": "code",
   "execution_count": 3,
   "id": "de563992",
   "metadata": {},
   "outputs": [],
   "source": [
    "def read_review_data(path, cleaning_function):\n",
    "    def convert_json(json_string):\n",
    "        try:\n",
    "            return json.loads(json_string)\n",
    "        except ValueError:\n",
    "            return    \n",
    "    with gzip.open(path, 'r') as fin:        # 4. gzip\n",
    "        json_bytes = fin.read()                      # 3. bytes (i.e. UTF-8)\n",
    "        json_str = json_bytes.decode('utf-8').split(\"\\n\")           # 2. string (i.e. JSON)\n",
    "        data = list(map(convert_json, json_str))\n",
    "        data = [cleaning_function(item) for item in data if item is not None]\n",
    "        \n",
    "    return data\n",
    "def clean_meta_data_json(json_dict):\n",
    "    output = {}\n",
    "    output['brand'] = json_dict['brand']\n",
    "    output['asin'] = json_dict['asin']\n",
    "    return output\n",
    "def clean_review_json(json_dict):\n",
    "    def clean_text(text):\n",
    "        return text.replace(\"\\n\",\"\")\n",
    "    def clean_fields(json_dict):\n",
    "        desired_fields = [\"overall\",\"summary\",\"reviewText\",\"asin\"]\n",
    "        return {field:json_dict.get(field,\"\") for field in desired_fields}\n",
    "    json_dict = clean_fields(json_dict)\n",
    "    json_dict['reviewText'] = clean_text(json_dict['reviewText'])\n",
    "    return json_dict\n",
    "def generate_sentiment_category(rating):\n",
    "    mapping = {\n",
    "        5.0:\"POS\",\n",
    "        4.0:\"POS\",\n",
    "        3.0:\"NEU\",\n",
    "        2.0:\"NEG\",\n",
    "        1.0:\"NEG\",\n",
    "    }\n",
    "    return mapping.get(rating)\n",
    "def balance_classes(df, target_col = \"sentiment\"):\n",
    "    class_distribution = df['sentiment'].value_counts().to_dict()\n",
    "    least_count = min(class_distribution.values())\n",
    "    for class_label,count in class_distribution.items():\n",
    "        if count>least_count:  \n",
    "            indices_to_drop = sample(df[df[target_col]==class_label].index.tolist(),count-least_count)\n",
    "            df = df.drop(indices_to_drop)\n",
    "    return df"
   ]
  },
  {
   "cell_type": "markdown",
   "id": "04f1f01e",
   "metadata": {},
   "source": [
    "### read review and meta data"
   ]
  },
  {
   "cell_type": "code",
   "execution_count": 4,
   "id": "8993f151",
   "metadata": {},
   "outputs": [],
   "source": [
    "metadata = read_review_data(metapath, clean_meta_data_json)\n",
    "reviewdata = read_review_data(reviewpath, clean_review_json)\n",
    "metadata = pd.DataFrame(metadata)\n",
    "metadata.drop_duplicates(inplace = True)\n",
    "reviewdata = pd.DataFrame(reviewdata)\n",
    "reviewdata.drop_duplicates(inplace = True)"
   ]
  },
  {
   "cell_type": "code",
   "execution_count": 17,
   "id": "8cb06bf4",
   "metadata": {},
   "outputs": [
    {
     "data": {
      "text/plain": [
       "{'brand': 'McGraw-Hill Education', 'asin': '0077734343'}"
      ]
     },
     "execution_count": 17,
     "metadata": {},
     "output_type": "execute_result"
    }
   ],
   "source": [
    "metadata.iloc[49].to_dict()"
   ]
  },
  {
   "cell_type": "markdown",
   "id": "2ab94c00",
   "metadata": {},
   "source": [
    "### generate sentiment classes"
   ]
  },
  {
   "cell_type": "code",
   "execution_count": 5,
   "id": "389dd71e",
   "metadata": {},
   "outputs": [],
   "source": [
    "merged_data = reviewdata.merge(metadata, how = \"left\", on = \"asin\")\n",
    "merged_data['sentiment'] = merged_data.overall.map(generate_sentiment_category)\n",
    "merged_data = balance_classes(merged_data)\n",
    "merged_data.drop(\"overall\", axis = 1, inplace = True)\n",
    "merged_data['reviewId'] = range(1,len(merged_data)+1)"
   ]
  },
  {
   "cell_type": "markdown",
   "id": "a59c3210",
   "metadata": {},
   "source": [
    "### save "
   ]
  },
  {
   "cell_type": "code",
   "execution_count": 10,
   "id": "93f4df18",
   "metadata": {},
   "outputs": [],
   "source": [
    "path = r\"C:\\Users\\tanch\\Documents\\NTU\\NTU Year 4\\Semester 1\\CS4022 - Social Media Mining\\Assignments\\Assignment 2 - Customer Review Mining Project\\data\\dataset.csv\"\n",
    "merged_data.to_csv(path, index = False)"
   ]
  },
  {
   "cell_type": "code",
   "execution_count": 11,
   "id": "52229f45",
   "metadata": {},
   "outputs": [
    {
     "data": {
      "text/html": [
       "<div>\n",
       "<style scoped>\n",
       "    .dataframe tbody tr th:only-of-type {\n",
       "        vertical-align: middle;\n",
       "    }\n",
       "\n",
       "    .dataframe tbody tr th {\n",
       "        vertical-align: top;\n",
       "    }\n",
       "\n",
       "    .dataframe thead th {\n",
       "        text-align: right;\n",
       "    }\n",
       "</style>\n",
       "<table border=\"1\" class=\"dataframe\">\n",
       "  <thead>\n",
       "    <tr style=\"text-align: right;\">\n",
       "      <th></th>\n",
       "      <th>summary</th>\n",
       "      <th>reviewText</th>\n",
       "      <th>asin</th>\n",
       "      <th>brand</th>\n",
       "      <th>sentiment</th>\n",
       "      <th>reviewId</th>\n",
       "    </tr>\n",
       "  </thead>\n",
       "  <tbody>\n",
       "    <tr>\n",
       "      <th>2</th>\n",
       "      <td>This is excellent software for those who want ...</td>\n",
       "      <td>If you've been wanting to learn how to create ...</td>\n",
       "      <td>0321719816</td>\n",
       "      <td>Peach Pit Press</td>\n",
       "      <td>POS</td>\n",
       "      <td>1</td>\n",
       "    </tr>\n",
       "    <tr>\n",
       "      <th>10</th>\n",
       "      <td>Competent introduction to Dreamweaver and web ...</td>\n",
       "      <td>I waited to complete the entire course before ...</td>\n",
       "      <td>0321719816</td>\n",
       "      <td>Peach Pit Press</td>\n",
       "      <td>NEU</td>\n",
       "      <td>2</td>\n",
       "    </tr>\n",
       "    <tr>\n",
       "      <th>11</th>\n",
       "      <td>Learn Adobe Photoshop Lightroom 3 by Video (Le...</td>\n",
       "      <td>As someone who has just upgraded from Lightroo...</td>\n",
       "      <td>0321700945</td>\n",
       "      <td>Peach Pit Press</td>\n",
       "      <td>POS</td>\n",
       "      <td>3</td>\n",
       "    </tr>\n",
       "    <tr>\n",
       "      <th>14</th>\n",
       "      <td>For Highly Motivated and Patient People</td>\n",
       "      <td>There are over 100 video lessons here. Most us...</td>\n",
       "      <td>0321700945</td>\n",
       "      <td>Peach Pit Press</td>\n",
       "      <td>NEU</td>\n",
       "      <td>4</td>\n",
       "    </tr>\n",
       "    <tr>\n",
       "      <th>20</th>\n",
       "      <td>Good Intro to Flash CS5</td>\n",
       "      <td>This was the first Learn by Video series cours...</td>\n",
       "      <td>0321719824</td>\n",
       "      <td>Peach Pit Press</td>\n",
       "      <td>POS</td>\n",
       "      <td>5</td>\n",
       "    </tr>\n",
       "    <tr>\n",
       "      <th>...</th>\n",
       "      <td>...</td>\n",
       "      <td>...</td>\n",
       "      <td>...</td>\n",
       "      <td>...</td>\n",
       "      <td>...</td>\n",
       "      <td>...</td>\n",
       "    </tr>\n",
       "    <tr>\n",
       "      <th>11956</th>\n",
       "      <td>Four Stars</td>\n",
       "      <td>great buy</td>\n",
       "      <td>B01E6C5D1S</td>\n",
       "      <td>IOLO Technologies</td>\n",
       "      <td>POS</td>\n",
       "      <td>4436</td>\n",
       "    </tr>\n",
       "    <tr>\n",
       "      <th>11957</th>\n",
       "      <td>They put out a good product...all they need is...</td>\n",
       "      <td>The product itself is quite good, in depth fix...</td>\n",
       "      <td>B01E6C5D1S</td>\n",
       "      <td>IOLO Technologies</td>\n",
       "      <td>POS</td>\n",
       "      <td>4437</td>\n",
       "    </tr>\n",
       "    <tr>\n",
       "      <th>11961</th>\n",
       "      <td>Works great for my purposes!</td>\n",
       "      <td>I am a total amateur when it comes to editing,...</td>\n",
       "      <td>B01FFVDY9M</td>\n",
       "      <td>Corel</td>\n",
       "      <td>POS</td>\n",
       "      <td>4438</td>\n",
       "    </tr>\n",
       "    <tr>\n",
       "      <th>11963</th>\n",
       "      <td>Might not be for the \"novice\"</td>\n",
       "      <td>This software has SO much going on.  Theres a ...</td>\n",
       "      <td>B01HAP3NUG</td>\n",
       "      <td>Pinnacle Systems</td>\n",
       "      <td>NEU</td>\n",
       "      <td>4439</td>\n",
       "    </tr>\n",
       "    <tr>\n",
       "      <th>11965</th>\n",
       "      <td>Gets the job done ... but not as easy as it sh...</td>\n",
       "      <td>Pinnacle Studio 20 Ultimate is a perfectly ser...</td>\n",
       "      <td>B01HAP47PQ</td>\n",
       "      <td>Pinnacle Systems</td>\n",
       "      <td>NEU</td>\n",
       "      <td>4440</td>\n",
       "    </tr>\n",
       "  </tbody>\n",
       "</table>\n",
       "<p>4440 rows × 6 columns</p>\n",
       "</div>"
      ],
      "text/plain": [
       "                                                 summary  \\\n",
       "2      This is excellent software for those who want ...   \n",
       "10     Competent introduction to Dreamweaver and web ...   \n",
       "11     Learn Adobe Photoshop Lightroom 3 by Video (Le...   \n",
       "14               For Highly Motivated and Patient People   \n",
       "20                               Good Intro to Flash CS5   \n",
       "...                                                  ...   \n",
       "11956                                         Four Stars   \n",
       "11957  They put out a good product...all they need is...   \n",
       "11961                       Works great for my purposes!   \n",
       "11963                      Might not be for the \"novice\"   \n",
       "11965  Gets the job done ... but not as easy as it sh...   \n",
       "\n",
       "                                              reviewText        asin  \\\n",
       "2      If you've been wanting to learn how to create ...  0321719816   \n",
       "10     I waited to complete the entire course before ...  0321719816   \n",
       "11     As someone who has just upgraded from Lightroo...  0321700945   \n",
       "14     There are over 100 video lessons here. Most us...  0321700945   \n",
       "20     This was the first Learn by Video series cours...  0321719824   \n",
       "...                                                  ...         ...   \n",
       "11956                                          great buy  B01E6C5D1S   \n",
       "11957  The product itself is quite good, in depth fix...  B01E6C5D1S   \n",
       "11961  I am a total amateur when it comes to editing,...  B01FFVDY9M   \n",
       "11963  This software has SO much going on.  Theres a ...  B01HAP3NUG   \n",
       "11965  Pinnacle Studio 20 Ultimate is a perfectly ser...  B01HAP47PQ   \n",
       "\n",
       "                   brand sentiment  reviewId  \n",
       "2        Peach Pit Press       POS         1  \n",
       "10       Peach Pit Press       NEU         2  \n",
       "11       Peach Pit Press       POS         3  \n",
       "14       Peach Pit Press       NEU         4  \n",
       "20       Peach Pit Press       POS         5  \n",
       "...                  ...       ...       ...  \n",
       "11956  IOLO Technologies       POS      4436  \n",
       "11957  IOLO Technologies       POS      4437  \n",
       "11961              Corel       POS      4438  \n",
       "11963   Pinnacle Systems       NEU      4439  \n",
       "11965   Pinnacle Systems       NEU      4440  \n",
       "\n",
       "[4440 rows x 6 columns]"
      ]
     },
     "execution_count": 11,
     "metadata": {},
     "output_type": "execute_result"
    }
   ],
   "source": [
    "merged_data"
   ]
  },
  {
   "cell_type": "code",
   "execution_count": null,
   "id": "ac42ccb9",
   "metadata": {},
   "outputs": [],
   "source": []
  }
 ],
 "metadata": {
  "kernelspec": {
   "display_name": "dp",
   "language": "python",
   "name": "dp"
  },
  "language_info": {
   "codemirror_mode": {
    "name": "ipython",
    "version": 3
   },
   "file_extension": ".py",
   "mimetype": "text/x-python",
   "name": "python",
   "nbconvert_exporter": "python",
   "pygments_lexer": "ipython3",
   "version": "3.9.12"
  }
 },
 "nbformat": 4,
 "nbformat_minor": 5
}
