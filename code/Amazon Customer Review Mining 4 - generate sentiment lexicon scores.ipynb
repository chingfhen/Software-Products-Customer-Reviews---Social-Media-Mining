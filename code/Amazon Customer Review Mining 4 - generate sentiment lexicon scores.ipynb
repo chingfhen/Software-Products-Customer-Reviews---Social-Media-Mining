{
 "cells": [
  {
   "cell_type": "code",
   "execution_count": 1,
   "id": "fe1b8d01",
   "metadata": {},
   "outputs": [],
   "source": [
    "import pandas as pd\n",
    "import numpy as np\n",
    "import string \n",
    "from collections import Counter\n",
    "import re\n",
    "punctuations = string.punctuation "
   ]
  },
  {
   "cell_type": "code",
   "execution_count": 2,
   "id": "5da97882",
   "metadata": {},
   "outputs": [
    {
     "data": {
      "text/html": [
       "<div>\n",
       "<style scoped>\n",
       "    .dataframe tbody tr th:only-of-type {\n",
       "        vertical-align: middle;\n",
       "    }\n",
       "\n",
       "    .dataframe tbody tr th {\n",
       "        vertical-align: top;\n",
       "    }\n",
       "\n",
       "    .dataframe thead th {\n",
       "        text-align: right;\n",
       "    }\n",
       "</style>\n",
       "<table border=\"1\" class=\"dataframe\">\n",
       "  <thead>\n",
       "    <tr style=\"text-align: right;\">\n",
       "      <th></th>\n",
       "      <th>summary</th>\n",
       "      <th>reviewText</th>\n",
       "      <th>asin</th>\n",
       "      <th>brand</th>\n",
       "      <th>sentiment</th>\n",
       "      <th>reviewId</th>\n",
       "    </tr>\n",
       "  </thead>\n",
       "  <tbody>\n",
       "    <tr>\n",
       "      <th>0</th>\n",
       "      <td>This is excellent software for those who want ...</td>\n",
       "      <td>If you've been wanting to learn how to create ...</td>\n",
       "      <td>0321719816</td>\n",
       "      <td>Peach Pit Press</td>\n",
       "      <td>POS</td>\n",
       "      <td>1</td>\n",
       "    </tr>\n",
       "    <tr>\n",
       "      <th>1</th>\n",
       "      <td>Competent introduction to Dreamweaver and web ...</td>\n",
       "      <td>I waited to complete the entire course before ...</td>\n",
       "      <td>0321719816</td>\n",
       "      <td>Peach Pit Press</td>\n",
       "      <td>NEU</td>\n",
       "      <td>2</td>\n",
       "    </tr>\n",
       "    <tr>\n",
       "      <th>2</th>\n",
       "      <td>Learn Adobe Photoshop Lightroom 3 by Video (Le...</td>\n",
       "      <td>As someone who has just upgraded from Lightroo...</td>\n",
       "      <td>0321700945</td>\n",
       "      <td>Peach Pit Press</td>\n",
       "      <td>POS</td>\n",
       "      <td>3</td>\n",
       "    </tr>\n",
       "    <tr>\n",
       "      <th>3</th>\n",
       "      <td>For Highly Motivated and Patient People</td>\n",
       "      <td>There are over 100 video lessons here. Most us...</td>\n",
       "      <td>0321700945</td>\n",
       "      <td>Peach Pit Press</td>\n",
       "      <td>NEU</td>\n",
       "      <td>4</td>\n",
       "    </tr>\n",
       "    <tr>\n",
       "      <th>4</th>\n",
       "      <td>Good Intro to Flash CS5</td>\n",
       "      <td>This was the first Learn by Video series cours...</td>\n",
       "      <td>0321719824</td>\n",
       "      <td>Peach Pit Press</td>\n",
       "      <td>POS</td>\n",
       "      <td>5</td>\n",
       "    </tr>\n",
       "  </tbody>\n",
       "</table>\n",
       "</div>"
      ],
      "text/plain": [
       "                                             summary  \\\n",
       "0  This is excellent software for those who want ...   \n",
       "1  Competent introduction to Dreamweaver and web ...   \n",
       "2  Learn Adobe Photoshop Lightroom 3 by Video (Le...   \n",
       "3            For Highly Motivated and Patient People   \n",
       "4                            Good Intro to Flash CS5   \n",
       "\n",
       "                                          reviewText        asin  \\\n",
       "0  If you've been wanting to learn how to create ...  0321719816   \n",
       "1  I waited to complete the entire course before ...  0321719816   \n",
       "2  As someone who has just upgraded from Lightroo...  0321700945   \n",
       "3  There are over 100 video lessons here. Most us...  0321700945   \n",
       "4  This was the first Learn by Video series cours...  0321719824   \n",
       "\n",
       "             brand sentiment  reviewId  \n",
       "0  Peach Pit Press       POS         1  \n",
       "1  Peach Pit Press       NEU         2  \n",
       "2  Peach Pit Press       POS         3  \n",
       "3  Peach Pit Press       NEU         4  \n",
       "4  Peach Pit Press       POS         5  "
      ]
     },
     "execution_count": 2,
     "metadata": {},
     "output_type": "execute_result"
    }
   ],
   "source": [
    "path = r\"C:\\Users\\tanch\\Documents\\NTU\\NTU Year 4\\Semester 1\\CS4022 - Social Media Mining\\Assignments\\Assignment 2 - Customer Review Mining Project\\data\\dataset.csv\"\n",
    "dataset = pd.read_csv(path)\n",
    "dataset.head()"
   ]
  },
  {
   "cell_type": "code",
   "execution_count": 4,
   "id": "fd5635be",
   "metadata": {},
   "outputs": [
    {
     "data": {
      "text/html": [
       "<div>\n",
       "<style scoped>\n",
       "    .dataframe tbody tr th:only-of-type {\n",
       "        vertical-align: middle;\n",
       "    }\n",
       "\n",
       "    .dataframe tbody tr th {\n",
       "        vertical-align: top;\n",
       "    }\n",
       "\n",
       "    .dataframe thead th {\n",
       "        text-align: right;\n",
       "    }\n",
       "</style>\n",
       "<table border=\"1\" class=\"dataframe\">\n",
       "  <thead>\n",
       "    <tr style=\"text-align: right;\">\n",
       "      <th></th>\n",
       "      <th>sentiment</th>\n",
       "    </tr>\n",
       "    <tr>\n",
       "      <th>term</th>\n",
       "      <th></th>\n",
       "    </tr>\n",
       "  </thead>\n",
       "  <tbody>\n",
       "    <tr>\n",
       "      <th>a</th>\n",
       "      <td>0</td>\n",
       "    </tr>\n",
       "    <tr>\n",
       "      <th>a.d.</th>\n",
       "      <td>0</td>\n",
       "    </tr>\n",
       "    <tr>\n",
       "      <th>a.k.a.</th>\n",
       "      <td>0</td>\n",
       "    </tr>\n",
       "    <tr>\n",
       "      <th>a.m.</th>\n",
       "      <td>0</td>\n",
       "    </tr>\n",
       "    <tr>\n",
       "      <th>aardvark</th>\n",
       "      <td>0</td>\n",
       "    </tr>\n",
       "  </tbody>\n",
       "</table>\n",
       "</div>"
      ],
      "text/plain": [
       "          sentiment\n",
       "term               \n",
       "a                 0\n",
       "a.d.              0\n",
       "a.k.a.            0\n",
       "a.m.              0\n",
       "aardvark          0"
      ]
     },
     "execution_count": 4,
     "metadata": {},
     "output_type": "execute_result"
    }
   ],
   "source": [
    "path = r\"C:\\Users\\tanch\\Documents\\NTU\\NTU Year 4\\Semester 1\\CS4022 - Social Media Mining\\Assignments\\Assignment 2 - Customer Review Mining Project\\data\\WKWSCISentimentLexicon_v1.1.xlsx\"\n",
    "sentiment_lexicons = pd.read_excel(path, sheet_name = 3, index_col = 'term')\n",
    "sentiment_lexicons.head()"
   ]
  },
  {
   "cell_type": "code",
   "execution_count": 10,
   "id": "f2d56364",
   "metadata": {},
   "outputs": [],
   "source": [
    "\"\"\"\n",
    "remove_nonalpha_char\n",
    "\"\"\"\n",
    "def clean_text(text):\n",
    "    def remove_nonalpha_char(text):\n",
    "        return re.sub(r'[^a-zA-Z]', ' ', text)\n",
    "    return remove_nonalpha_char(str(text)).lower()\n",
    "\"\"\"\n",
    "get normalized sentiment score by sentiment lexicons \n",
    "\"\"\"\n",
    "def get_text_sentiment_score(text):\n",
    "    words = text.split()\n",
    "    return sum(map(get_word_sentiment_score, words))/len(words) if len(words)!=0 else 0\n",
    "def get_word_sentiment_score(word):\n",
    "    return sentiment_lexicons.sentiment.get(word,0)"
   ]
  },
  {
   "cell_type": "markdown",
   "id": "90a3f8ca",
   "metadata": {},
   "source": [
    "### get normalized sentiment score by sentiment lexicons "
   ]
  },
  {
   "cell_type": "code",
   "execution_count": 7,
   "id": "f062b216",
   "metadata": {},
   "outputs": [],
   "source": [
    "dataset[\"clean_summary\"] = dataset[\"summary\"].map(clean_text)\n",
    "dataset[\"clean_review\"] = dataset[\"reviewText\"].map(clean_text)"
   ]
  },
  {
   "cell_type": "code",
   "execution_count": 11,
   "id": "1969b512",
   "metadata": {},
   "outputs": [],
   "source": [
    "dataset[\"sentiment_lexicon_score_summary\"] = dataset[\"clean_summary\"].map(get_text_sentiment_score)\n",
    "dataset[\"sentiment_lexicon_score_review\"] = dataset[\"clean_review\"].map(get_text_sentiment_score)"
   ]
  },
  {
   "cell_type": "markdown",
   "id": "d999a127",
   "metadata": {},
   "source": [
    "### save"
   ]
  },
  {
   "cell_type": "code",
   "execution_count": 19,
   "id": "5e9888bf",
   "metadata": {
    "scrolled": true
   },
   "outputs": [],
   "source": [
    "path = r\"C:\\Users\\tanch\\Documents\\NTU\\NTU Year 4\\Semester 1\\CS4022 - Social Media Mining\\Assignments\\Assignment 2 - Customer Review Mining Project\\data\\sentiment_lexicon_score.pkl\"\n",
    "dataset[[\"reviewId\", \"sentiment_lexicon_score_summary\", \"sentiment_lexicon_score_review\"]].to_pickle(path)"
   ]
  },
  {
   "cell_type": "code",
   "execution_count": null,
   "id": "7a33d444",
   "metadata": {},
   "outputs": [],
   "source": []
  }
 ],
 "metadata": {
  "kernelspec": {
   "display_name": "dp",
   "language": "python",
   "name": "dp"
  },
  "language_info": {
   "codemirror_mode": {
    "name": "ipython",
    "version": 3
   },
   "file_extension": ".py",
   "mimetype": "text/x-python",
   "name": "python",
   "nbconvert_exporter": "python",
   "pygments_lexer": "ipython3",
   "version": "3.9.12"
  }
 },
 "nbformat": 4,
 "nbformat_minor": 5
}
